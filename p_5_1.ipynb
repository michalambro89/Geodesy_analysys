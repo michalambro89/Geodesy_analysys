{
 "cells": [
  {
   "cell_type": "markdown",
   "metadata": {},
   "source": [
    "## Wyznaczanie profilu wysokościowego trasy rowerowej\n",
    "\n",
    "### Autor: Michał Ambroży\n",
    "### numer: 1, grupa: 1\n",
    "\n",
    "## Wprowadzenie:\n",
    "### Celem niniejszego sprawozdania jest wykonanie profilu wysokościowego trasy w systemie wysokości normalnych PL-EVRF2007-NH, opierając się na danych współrzędnych krzywoliniowych oraz wysokości normalnej. Przyjętym modelem wysokości jest aktualny quasigeoida PL-geoid2021. Procedura obejmuje przeliczenie danych wysokości normalnych na wysokości elipsoidalne, a następnie niwelację satelitarną w celu uzyskania wysokości normalnych w układzie PL-EVRF2007.\n",
    "### "
   ]
  },
  {
   "cell_type": "code",
   "execution_count": 1,
   "metadata": {},
   "outputs": [
    {
     "name": "stdout",
     "output_type": "stream",
     "text": [
      "      latitude  longitude  elevation  time   distance      helip      kronH  \\\n",
      "0    50.710599  20.893800      245.1   NaN   0.104076  36.304894  36.483629   \n",
      "1    50.710198  20.895131      246.5   NaN   0.128530  36.298697  36.476922   \n",
      "2    50.710124  20.895457      246.6   NaN   0.240685  36.298823  36.477418   \n",
      "3    50.710024  20.897037      246.5   NaN   0.383374  36.297313  36.475911   \n",
      "4    50.710200  20.899038      247.0   NaN   0.606369  36.295300  36.473895   \n",
      "..         ...        ...        ...   ...        ...        ...        ...   \n",
      "114  50.666594  21.082887      227.6   NaN  16.209526  36.041449  36.220211   \n",
      "115  50.666466  21.083128      228.4   NaN  16.209526  36.041324  36.220053   \n",
      "116  50.666466  21.083128      228.4   NaN  16.274732  36.041324  36.220053   \n",
      "117  50.666615  21.084020      227.3   NaN  16.329600  36.040648  36.219285   \n",
      "118  50.666651  21.084794      230.8   NaN  16.840927  36.040027  36.218577   \n",
      "\n",
      "         evrfH        elip          HN      diff  \n",
      "0    36.304894  281.404894  244.921265 -0.178735  \n",
      "1    36.298697  282.798697  246.321776 -0.178224  \n",
      "2    36.298823  282.898823  246.421405 -0.178595  \n",
      "3    36.297313  282.797313  246.321401 -0.178599  \n",
      "4    36.295300  283.295300  246.821405 -0.178595  \n",
      "..         ...         ...         ...       ...  \n",
      "114  36.041449  263.641449  227.421238 -0.178762  \n",
      "115  36.041324  264.441324  228.221272 -0.178728  \n",
      "116  36.041324  264.441324  228.221272 -0.178728  \n",
      "117  36.040648  263.340648  227.121363 -0.178637  \n",
      "118  36.040027  266.840027  230.621450 -0.178550  \n",
      "\n",
      "[119 rows x 11 columns]\n",
      "Wysokość normalna na początku trasy: 244.92126519904278\n",
      "Wysokość normalna na końcu trasy: 230.6214496553929\n",
      "Rózncia wysokości normalnych w układzie PL-EVRF-2007-NH:\n",
      "0     -0.178735\n",
      "1     -0.178224\n",
      "2     -0.178595\n",
      "3     -0.178599\n",
      "4     -0.178595\n",
      "         ...   \n",
      "114   -0.178762\n",
      "115   -0.178728\n",
      "116   -0.178728\n",
      "117   -0.178637\n",
      "118   -0.178550\n",
      "Name: diff, Length: 119, dtype: float64\n"
     ]
    }
   ],
   "source": [
    "# Na podstawie danych współrzędnych krzywoliniowych oraz wysokości normalnej trasy w po\u0002danym modelu wysokości, wykonaj profil wysokościowy odcinka w systemie wysokości normal\u0002nych, w układzie PL-EVRF2007-NH, wykorzystując aktualnie obowiązujący model quasigeoidy:\n",
    "# PL-geoid2021. Przedstaw przebieg trasy oraz profil na odpowiednich wizualizacjach (wykonaj\n",
    "# aplikację).\n",
    "# 1. Pierwszym krokiem jest wykonanie zadania, które nazwać możemy \"odwrotną\"niwelacją\n",
    "# satelitarną – na podstawie danych wysokości normalnych, w danym, w zależności od typu\n",
    "# pliku, systemie wysokości, należy przeliczyć do systemu wysokości elipsoidalnych. Wyko\u0002rzystane będzie tutaj zatem wzór:\n",
    "# helip = HN(model) + ζ(model) \n",
    "# gdzie:\n",
    "# • helip – wysokość elipsoidalna,\n",
    "# • HN(model) – wysokość normalna,\n",
    "# • ζ(model) – anomalia quasigeoidalna.\n",
    "\n",
    "import gpxpy\n",
    "import scipy\n",
    "from scipy.interpolate import griddata\n",
    "import pandas as pd\n",
    "import numpy as np\n",
    "import plotly.graph_objects as go\n",
    "import folium as fl\n",
    "\n",
    "def gpx2df(gpx_file_name, new_file_name = 'route_df2.csv'):\n",
    "    with open(gpx_file_name, 'r') as gpx_file:\n",
    "        gpx = gpxpy.parse(gpx_file)\n",
    "    route_info = []\n",
    "    \n",
    "    for track in gpx.tracks:\n",
    "        for segment in track.segments:\n",
    "            for point in segment.points:\n",
    "                route_info.append({\n",
    "                    'latitude': point.latitude,\n",
    "                    'longitude': point.longitude,\n",
    "                    'elevation': point.elevation,\n",
    "                    'time':point.time\n",
    "                })\n",
    "    \n",
    "    route_df = pd.DataFrame(route_info)\n",
    "    \n",
    "    save_df(route_df, new_file_name)\n",
    "\n",
    "def read_route_df(plik):\n",
    "    df = pd.read_csv(plik)\n",
    "    return df\n",
    "\n",
    "def blh2xyz(fi, lam, h) -> np.array:\n",
    "    a = 6378137.0\n",
    "    e2 = 0.00669438002290\n",
    "    N = a/np.sqrt(1-e2*np.sin(fi)**2)\n",
    "    x = (N+h)*np.cos(fi)*np.cos(lam)\n",
    "    y = (N+h)*np.cos(fi)*np.sin(lam)\n",
    "    z = (N*(1-e2)+h)*np.sin(fi)\n",
    "    xyz = np.array([x,y,z])\n",
    "    return xyz\n",
    "\n",
    "def save_df(route_df, new_file_name= 'route_df2.csv'):\n",
    "    route_df.to_csv(new_file_name, index=False)\n",
    "\n",
    "def interpolate_geoid(model, phi, lam, tr: scipy.spatial.KDTree = None):\n",
    "    if tr is None:\n",
    "        tr = scipy.spatial.KDTree(model[:, :2])\n",
    "    # find the 4 closest points\n",
    "    d, idx = tr.query([phi, lam], k=4, workers=-1)\n",
    "    # calculate weights\n",
    "    w = 1/d\n",
    "    # calculate heights\n",
    "    h = model[idx, 2]\n",
    "    # calculate weighted average height\n",
    "    h1 = np.sum(h*w)/np.sum(w)\n",
    "    return h1\n",
    "\n",
    "plik = 'test3.gpx'\n",
    "\n",
    "df = gpx2df(plik)\n",
    "df = read_route_df('route_df2.csv')\n",
    "\n",
    "phis = df['latitude'].values\n",
    "lambdas = df['longitude'].values\n",
    "dists = [] # dystans od początku trasy w danym punkcie\n",
    "\n",
    "for i in range(len(phis)-1):\n",
    "    phi1 = phis[i]\n",
    "    lam1 = lambdas[i]\n",
    "    phi2 = phis[i+1]\n",
    "    lam2 = lambdas[i+1]\n",
    "\n",
    "    xyz1 = blh2xyz(np.deg2rad(phi1), np.deg2rad(lam1), 0)\n",
    "    xyz2 = blh2xyz(np.deg2rad(phi2), np.deg2rad(lam2), 0)\n",
    "    dist = np.linalg.norm(xyz1-xyz2)\n",
    "    dists.append(dist)\n",
    "\n",
    "# append the last distance\n",
    "phi1 = phis[-1]\n",
    "lam1 = lambdas[-1]\n",
    "phi2 = phis[0]\n",
    "lam2 = lambdas[0]\n",
    "\n",
    "xyz1 = blh2xyz(np.deg2rad(phi1), np.deg2rad(lam1), 0)\n",
    "xyz2 = blh2xyz(np.deg2rad(phi2), np.deg2rad(lam2), 0)\n",
    "dist = np.linalg.norm(xyz1-xyz2)\n",
    "dists.append(dist)\n",
    "\n",
    "df['distance'] = np.cumsum(dists)\n",
    "df['distance'] = df['distance']/1000 # convert to km\n",
    "\n",
    "kron_model = np.genfromtxt('siatka_gugik-geoid2011-PL-KRON86-NH.txt', skip_header=1)\n",
    "kron_model = kron_model[~np.isnan(kron_model[:, 2])]\n",
    "\n",
    "evrf_model = np.genfromtxt('Model_quasi-geoidy-PL-geoid2021-PL-EVRF2007-NH.txt', skip_header=1)\n",
    "evrf_model = evrf_model[~np.isnan(evrf_model[:, 2])]\n",
    "\n",
    "# wysokosc elipsoidalna helip = Hn(model geoidy PL-geoid2021) + zeta(model geoidy PL-geoid2021)\n",
    "helip = []\n",
    "for lam, phi in zip(lambdas, phis):\n",
    "    helip.append(interpolate_geoid(evrf_model, phi, lam))\n",
    "df['helip'] = helip\n",
    "\n",
    "kron_tr = scipy.spatial.KDTree(kron_model[:, :2])\n",
    "evrf_tr = scipy.spatial.KDTree(evrf_model[:, :2])\n",
    "kronHeights = []\n",
    "evrfHeights = []\n",
    "for lam, phi in zip(lambdas, phis):\n",
    "    kronH = interpolate_geoid(kron_model, phi, lam, kron_tr)\n",
    "    kronHeights.append(kronH)\n",
    "    evrfH = interpolate_geoid(evrf_model, phi, lam, evrf_tr)\n",
    "    evrfHeights.append(evrfH)\n",
    "\n",
    "df['kronH'] = kronHeights\n",
    "df['evrfH'] = evrfHeights\n",
    "df['elip'] = df['elevation'] + df['evrfH']\n",
    "df['HN'] = df['elip'] - df['kronH']\n",
    "df['diff'] = df['HN'] - df['elevation']\n",
    "\n",
    "# usun ostatni wiersz df\n",
    "df = df[:-1]\n",
    "# wyswietlmy data frame\n",
    "print(df)\n",
    "\n",
    "print(f'Wysokość normalna na początku trasy: {df[\"HN\"].iloc[0]}')\n",
    "print(f'Wysokość normalna na końcu trasy: {df[\"HN\"].iloc[-1]}')\n",
    "\n",
    "# wyswietlmy roznice wysokosci normalnych w układzie PL-EVRF-2007-NH\n",
    "print('Rózncia wysokości normalnych w układzie PL-EVRF-2007-NH:') # jednostka: m\n",
    "print(df['diff'])"
   ]
  },
  {
   "cell_type": "code",
   "execution_count": 2,
   "metadata": {},
   "outputs": [
    {
     "data": {
      "application/vnd.plotly.v1+json": {
       "config": {
        "plotlyServerURL": "https://plot.ly"
       },
       "data": [
        {
         "name": "HN",
         "type": "scatter",
         "x": [
          0.10407608012384552,
          0.12853001982843631,
          0.24068518818029508,
          0.3833738186432179,
          0.6063689621840246,
          0.7668287056884303,
          1.0298152831922474,
          1.0807660028819237,
          1.2395669107412406,
          1.3281082268545044,
          1.3767877284307828,
          1.4051207437742295,
          1.5985089109479071,
          2.0066656947406516,
          2.0636860252009837,
          2.081080236382888,
          2.263620445990931,
          2.2975620047943432,
          2.2976278927304197,
          2.6268165550159894,
          2.682016922520627,
          2.9868681991494084,
          3.180720401532066,
          3.381934021627068,
          3.739226472612583,
          3.829093390866085,
          4.062785992262788,
          4.237837534905892,
          4.472823238734719,
          4.669011069212909,
          4.752068976099489,
          4.912376127502542,
          5.0464060852730075,
          5.14881369831402,
          5.201622227601868,
          5.2887363014469555,
          5.387688908147356,
          5.476691708687047,
          5.526476970054993,
          6.071262477142353,
          6.3701153984032945,
          6.988525466008472,
          7.012954575284108,
          7.0554374138904405,
          7.580956271070896,
          7.6096664878171305,
          7.831118596463323,
          8.01336358607398,
          8.105683352679849,
          8.105683352679849,
          8.126979819516112,
          8.23869923957075,
          8.37191312681396,
          8.442269733698893,
          8.59228350525684,
          8.65473168678845,
          8.792123035819605,
          8.841315205727788,
          8.96693586375554,
          9.277809330233106,
          9.323216768688477,
          9.989856138624859,
          10.491134155234835,
          10.533354042183209,
          10.64073394712118,
          10.64073394712118,
          10.728739597937045,
          11.05541617684489,
          11.677876852542406,
          11.772465041899318,
          11.896037459023459,
          11.896037459023459,
          12.033336742581005,
          12.186937329642177,
          12.186937329642177,
          12.202396054612093,
          12.202396054612093,
          12.27800418642688,
          12.27800418642688,
          12.295551658035485,
          12.295551658035485,
          12.366909540414975,
          12.366909540414975,
          12.407873792679462,
          12.407890267804786,
          12.672441323602463,
          12.672441323602463,
          12.682257209071649,
          12.763742324694073,
          12.809525712785126,
          12.846715764176466,
          12.874357533729553,
          12.990028403759599,
          13.007028340451063,
          13.007028340451063,
          13.349953707146666,
          13.515179050355636,
          13.673467135184637,
          14.162447225382596,
          14.57757340687919,
          14.741370862011687,
          14.741370862011687,
          14.789568338651264,
          14.83656076880577,
          15.323977710209153,
          15.366037586481092,
          15.468220256384509,
          15.544703692843301,
          15.575839842730014,
          15.639914609372552,
          15.846196682043466,
          16.015942943497162,
          16.08005705069353,
          16.18732113279177,
          16.209526144375932,
          16.209526144375932,
          16.274732054859392,
          16.329599817494753,
          16.840927259780717
         ],
         "y": [
          244.92126519904278,
          246.32177577936358,
          246.4214054361002,
          246.3214010713295,
          246.82140505401784,
          246.62156307672774,
          249.22132561017474,
          252.7221337874583,
          253.32220443663556,
          249.42232201722732,
          249.02226587193795,
          250.42224491204155,
          251.12223493840457,
          253.12248760189877,
          252.12253732265236,
          252.5222966620938,
          253.3222965026078,
          255.62223902690386,
          255.82222684463827,
          255.82222687129826,
          256.2223299134145,
          255.52236243763875,
          259.02249897472507,
          250.92246426846717,
          252.22240970436184,
          248.22275454575373,
          247.32282092201373,
          247.52300385660737,
          246.52312536985613,
          244.02354168914815,
          240.32355250495507,
          240.1235490251829,
          236.12344007470435,
          238.02328051418712,
          239.22294278186854,
          240.12286746163196,
          240.1227290315568,
          239.122594116055,
          236.12261956934225,
          234.52262066733155,
          245.3216847335326,
          240.02130897246235,
          233.32035129932876,
          233.42031981056095,
          233.52026043537137,
          240.21913673108762,
          240.71915148843138,
          235.11970476397113,
          230.5199746449465,
          228.71911836622732,
          228.71911836622732,
          228.31909515194843,
          227.21900264416692,
          227.3189441313797,
          228.31892153239593,
          228.2188621836459,
          228.41879913201325,
          232.3182041053523,
          234.61848541608583,
          238.0183487157084,
          240.01824515184327,
          238.01822298532142,
          230.71636205523936,
          229.81594523780518,
          229.61629040359335,
          229.41591161110708,
          229.41591161110708,
          230.51592574768458,
          226.3159526453765,
          222.1166015194281,
          221.81661122775222,
          219.41655057670056,
          219.41655057670056,
          217.81665140572932,
          220.8175112672443,
          220.8175112672443,
          220.81753494923748,
          220.81753494923748,
          221.81764059154318,
          221.81764059154318,
          221.81764711463842,
          221.81764711463842,
          221.81761046568303,
          221.81761046568303,
          221.81757561939736,
          221.8175755962069,
          219.217582821316,
          219.217582821316,
          219.21759243868627,
          221.31768282312433,
          222.11774112005062,
          222.51779287205161,
          222.81783320467625,
          224.3180098111334,
          224.2180338083294,
          224.2180338083294,
          233.61861063792904,
          236.01861029712254,
          243.1187210744984,
          246.51930716904633,
          244.8201601967411,
          241.52029470781991,
          241.52029470781991,
          241.92029653832148,
          242.72030103087644,
          234.5203118800763,
          234.02031104726856,
          230.7205297516315,
          227.02054230280106,
          225.12053439613172,
          222.8205296801495,
          217.92075600975264,
          220.12110594857336,
          223.5211424666653,
          227.42123801534407,
          228.2212716096916,
          228.2212716096916,
          227.1213632361044,
          230.6214496553929
         ]
        },
        {
         "name": "elevation",
         "type": "scatter",
         "x": [
          0.10407608012384552,
          0.12853001982843631,
          0.24068518818029508,
          0.3833738186432179,
          0.6063689621840246,
          0.7668287056884303,
          1.0298152831922474,
          1.0807660028819237,
          1.2395669107412406,
          1.3281082268545044,
          1.3767877284307828,
          1.4051207437742295,
          1.5985089109479071,
          2.0066656947406516,
          2.0636860252009837,
          2.081080236382888,
          2.263620445990931,
          2.2975620047943432,
          2.2976278927304197,
          2.6268165550159894,
          2.682016922520627,
          2.9868681991494084,
          3.180720401532066,
          3.381934021627068,
          3.739226472612583,
          3.829093390866085,
          4.062785992262788,
          4.237837534905892,
          4.472823238734719,
          4.669011069212909,
          4.752068976099489,
          4.912376127502542,
          5.0464060852730075,
          5.14881369831402,
          5.201622227601868,
          5.2887363014469555,
          5.387688908147356,
          5.476691708687047,
          5.526476970054993,
          6.071262477142353,
          6.3701153984032945,
          6.988525466008472,
          7.012954575284108,
          7.0554374138904405,
          7.580956271070896,
          7.6096664878171305,
          7.831118596463323,
          8.01336358607398,
          8.105683352679849,
          8.105683352679849,
          8.126979819516112,
          8.23869923957075,
          8.37191312681396,
          8.442269733698893,
          8.59228350525684,
          8.65473168678845,
          8.792123035819605,
          8.841315205727788,
          8.96693586375554,
          9.277809330233106,
          9.323216768688477,
          9.989856138624859,
          10.491134155234835,
          10.533354042183209,
          10.64073394712118,
          10.64073394712118,
          10.728739597937045,
          11.05541617684489,
          11.677876852542406,
          11.772465041899318,
          11.896037459023459,
          11.896037459023459,
          12.033336742581005,
          12.186937329642177,
          12.186937329642177,
          12.202396054612093,
          12.202396054612093,
          12.27800418642688,
          12.27800418642688,
          12.295551658035485,
          12.295551658035485,
          12.366909540414975,
          12.366909540414975,
          12.407873792679462,
          12.407890267804786,
          12.672441323602463,
          12.672441323602463,
          12.682257209071649,
          12.763742324694073,
          12.809525712785126,
          12.846715764176466,
          12.874357533729553,
          12.990028403759599,
          13.007028340451063,
          13.007028340451063,
          13.349953707146666,
          13.515179050355636,
          13.673467135184637,
          14.162447225382596,
          14.57757340687919,
          14.741370862011687,
          14.741370862011687,
          14.789568338651264,
          14.83656076880577,
          15.323977710209153,
          15.366037586481092,
          15.468220256384509,
          15.544703692843301,
          15.575839842730014,
          15.639914609372552,
          15.846196682043466,
          16.015942943497162,
          16.08005705069353,
          16.18732113279177,
          16.209526144375932,
          16.209526144375932,
          16.274732054859392,
          16.329599817494753,
          16.840927259780717
         ],
         "y": [
          245.1,
          246.5,
          246.6,
          246.5,
          247,
          246.8,
          249.4,
          252.9,
          253.5,
          249.6,
          249.2,
          250.6,
          251.3,
          253.3,
          252.3,
          252.7,
          253.5,
          255.8,
          256,
          256,
          256.4,
          255.7,
          259.2,
          251.1,
          252.4,
          248.4,
          247.5,
          247.7,
          246.7,
          244.2,
          240.5,
          240.3,
          236.3,
          238.2,
          239.4,
          240.3,
          240.3,
          239.3,
          236.3,
          234.7,
          245.5,
          240.2,
          233.5,
          233.6,
          233.7,
          240.4,
          240.9,
          235.3,
          230.7,
          228.9,
          228.9,
          228.5,
          227.4,
          227.5,
          228.5,
          228.4,
          228.6,
          232.5,
          234.8,
          238.2,
          240.2,
          238.2,
          230.9,
          230,
          229.8,
          229.6,
          229.6,
          230.7,
          226.5,
          222.3,
          222,
          219.6,
          219.6,
          218,
          221,
          221,
          221,
          221,
          222,
          222,
          222,
          222,
          222,
          222,
          222,
          222,
          219.4,
          219.4,
          219.4,
          221.5,
          222.3,
          222.7,
          223,
          224.5,
          224.4,
          224.4,
          233.8,
          236.2,
          243.3,
          246.7,
          245,
          241.7,
          241.7,
          242.1,
          242.9,
          234.7,
          234.2,
          230.9,
          227.2,
          225.3,
          223,
          218.1,
          220.3,
          223.7,
          227.6,
          228.4,
          228.4,
          227.3,
          230.8
         ]
        }
       ],
       "layout": {
        "template": {
         "data": {
          "bar": [
           {
            "error_x": {
             "color": "#2a3f5f"
            },
            "error_y": {
             "color": "#2a3f5f"
            },
            "marker": {
             "line": {
              "color": "#E5ECF6",
              "width": 0.5
             },
             "pattern": {
              "fillmode": "overlay",
              "size": 10,
              "solidity": 0.2
             }
            },
            "type": "bar"
           }
          ],
          "barpolar": [
           {
            "marker": {
             "line": {
              "color": "#E5ECF6",
              "width": 0.5
             },
             "pattern": {
              "fillmode": "overlay",
              "size": 10,
              "solidity": 0.2
             }
            },
            "type": "barpolar"
           }
          ],
          "carpet": [
           {
            "aaxis": {
             "endlinecolor": "#2a3f5f",
             "gridcolor": "white",
             "linecolor": "white",
             "minorgridcolor": "white",
             "startlinecolor": "#2a3f5f"
            },
            "baxis": {
             "endlinecolor": "#2a3f5f",
             "gridcolor": "white",
             "linecolor": "white",
             "minorgridcolor": "white",
             "startlinecolor": "#2a3f5f"
            },
            "type": "carpet"
           }
          ],
          "choropleth": [
           {
            "colorbar": {
             "outlinewidth": 0,
             "ticks": ""
            },
            "type": "choropleth"
           }
          ],
          "contour": [
           {
            "colorbar": {
             "outlinewidth": 0,
             "ticks": ""
            },
            "colorscale": [
             [
              0,
              "#0d0887"
             ],
             [
              0.1111111111111111,
              "#46039f"
             ],
             [
              0.2222222222222222,
              "#7201a8"
             ],
             [
              0.3333333333333333,
              "#9c179e"
             ],
             [
              0.4444444444444444,
              "#bd3786"
             ],
             [
              0.5555555555555556,
              "#d8576b"
             ],
             [
              0.6666666666666666,
              "#ed7953"
             ],
             [
              0.7777777777777778,
              "#fb9f3a"
             ],
             [
              0.8888888888888888,
              "#fdca26"
             ],
             [
              1,
              "#f0f921"
             ]
            ],
            "type": "contour"
           }
          ],
          "contourcarpet": [
           {
            "colorbar": {
             "outlinewidth": 0,
             "ticks": ""
            },
            "type": "contourcarpet"
           }
          ],
          "heatmap": [
           {
            "colorbar": {
             "outlinewidth": 0,
             "ticks": ""
            },
            "colorscale": [
             [
              0,
              "#0d0887"
             ],
             [
              0.1111111111111111,
              "#46039f"
             ],
             [
              0.2222222222222222,
              "#7201a8"
             ],
             [
              0.3333333333333333,
              "#9c179e"
             ],
             [
              0.4444444444444444,
              "#bd3786"
             ],
             [
              0.5555555555555556,
              "#d8576b"
             ],
             [
              0.6666666666666666,
              "#ed7953"
             ],
             [
              0.7777777777777778,
              "#fb9f3a"
             ],
             [
              0.8888888888888888,
              "#fdca26"
             ],
             [
              1,
              "#f0f921"
             ]
            ],
            "type": "heatmap"
           }
          ],
          "heatmapgl": [
           {
            "colorbar": {
             "outlinewidth": 0,
             "ticks": ""
            },
            "colorscale": [
             [
              0,
              "#0d0887"
             ],
             [
              0.1111111111111111,
              "#46039f"
             ],
             [
              0.2222222222222222,
              "#7201a8"
             ],
             [
              0.3333333333333333,
              "#9c179e"
             ],
             [
              0.4444444444444444,
              "#bd3786"
             ],
             [
              0.5555555555555556,
              "#d8576b"
             ],
             [
              0.6666666666666666,
              "#ed7953"
             ],
             [
              0.7777777777777778,
              "#fb9f3a"
             ],
             [
              0.8888888888888888,
              "#fdca26"
             ],
             [
              1,
              "#f0f921"
             ]
            ],
            "type": "heatmapgl"
           }
          ],
          "histogram": [
           {
            "marker": {
             "pattern": {
              "fillmode": "overlay",
              "size": 10,
              "solidity": 0.2
             }
            },
            "type": "histogram"
           }
          ],
          "histogram2d": [
           {
            "colorbar": {
             "outlinewidth": 0,
             "ticks": ""
            },
            "colorscale": [
             [
              0,
              "#0d0887"
             ],
             [
              0.1111111111111111,
              "#46039f"
             ],
             [
              0.2222222222222222,
              "#7201a8"
             ],
             [
              0.3333333333333333,
              "#9c179e"
             ],
             [
              0.4444444444444444,
              "#bd3786"
             ],
             [
              0.5555555555555556,
              "#d8576b"
             ],
             [
              0.6666666666666666,
              "#ed7953"
             ],
             [
              0.7777777777777778,
              "#fb9f3a"
             ],
             [
              0.8888888888888888,
              "#fdca26"
             ],
             [
              1,
              "#f0f921"
             ]
            ],
            "type": "histogram2d"
           }
          ],
          "histogram2dcontour": [
           {
            "colorbar": {
             "outlinewidth": 0,
             "ticks": ""
            },
            "colorscale": [
             [
              0,
              "#0d0887"
             ],
             [
              0.1111111111111111,
              "#46039f"
             ],
             [
              0.2222222222222222,
              "#7201a8"
             ],
             [
              0.3333333333333333,
              "#9c179e"
             ],
             [
              0.4444444444444444,
              "#bd3786"
             ],
             [
              0.5555555555555556,
              "#d8576b"
             ],
             [
              0.6666666666666666,
              "#ed7953"
             ],
             [
              0.7777777777777778,
              "#fb9f3a"
             ],
             [
              0.8888888888888888,
              "#fdca26"
             ],
             [
              1,
              "#f0f921"
             ]
            ],
            "type": "histogram2dcontour"
           }
          ],
          "mesh3d": [
           {
            "colorbar": {
             "outlinewidth": 0,
             "ticks": ""
            },
            "type": "mesh3d"
           }
          ],
          "parcoords": [
           {
            "line": {
             "colorbar": {
              "outlinewidth": 0,
              "ticks": ""
             }
            },
            "type": "parcoords"
           }
          ],
          "pie": [
           {
            "automargin": true,
            "type": "pie"
           }
          ],
          "scatter": [
           {
            "fillpattern": {
             "fillmode": "overlay",
             "size": 10,
             "solidity": 0.2
            },
            "type": "scatter"
           }
          ],
          "scatter3d": [
           {
            "line": {
             "colorbar": {
              "outlinewidth": 0,
              "ticks": ""
             }
            },
            "marker": {
             "colorbar": {
              "outlinewidth": 0,
              "ticks": ""
             }
            },
            "type": "scatter3d"
           }
          ],
          "scattercarpet": [
           {
            "marker": {
             "colorbar": {
              "outlinewidth": 0,
              "ticks": ""
             }
            },
            "type": "scattercarpet"
           }
          ],
          "scattergeo": [
           {
            "marker": {
             "colorbar": {
              "outlinewidth": 0,
              "ticks": ""
             }
            },
            "type": "scattergeo"
           }
          ],
          "scattergl": [
           {
            "marker": {
             "colorbar": {
              "outlinewidth": 0,
              "ticks": ""
             }
            },
            "type": "scattergl"
           }
          ],
          "scattermapbox": [
           {
            "marker": {
             "colorbar": {
              "outlinewidth": 0,
              "ticks": ""
             }
            },
            "type": "scattermapbox"
           }
          ],
          "scatterpolar": [
           {
            "marker": {
             "colorbar": {
              "outlinewidth": 0,
              "ticks": ""
             }
            },
            "type": "scatterpolar"
           }
          ],
          "scatterpolargl": [
           {
            "marker": {
             "colorbar": {
              "outlinewidth": 0,
              "ticks": ""
             }
            },
            "type": "scatterpolargl"
           }
          ],
          "scatterternary": [
           {
            "marker": {
             "colorbar": {
              "outlinewidth": 0,
              "ticks": ""
             }
            },
            "type": "scatterternary"
           }
          ],
          "surface": [
           {
            "colorbar": {
             "outlinewidth": 0,
             "ticks": ""
            },
            "colorscale": [
             [
              0,
              "#0d0887"
             ],
             [
              0.1111111111111111,
              "#46039f"
             ],
             [
              0.2222222222222222,
              "#7201a8"
             ],
             [
              0.3333333333333333,
              "#9c179e"
             ],
             [
              0.4444444444444444,
              "#bd3786"
             ],
             [
              0.5555555555555556,
              "#d8576b"
             ],
             [
              0.6666666666666666,
              "#ed7953"
             ],
             [
              0.7777777777777778,
              "#fb9f3a"
             ],
             [
              0.8888888888888888,
              "#fdca26"
             ],
             [
              1,
              "#f0f921"
             ]
            ],
            "type": "surface"
           }
          ],
          "table": [
           {
            "cells": {
             "fill": {
              "color": "#EBF0F8"
             },
             "line": {
              "color": "white"
             }
            },
            "header": {
             "fill": {
              "color": "#C8D4E3"
             },
             "line": {
              "color": "white"
             }
            },
            "type": "table"
           }
          ]
         },
         "layout": {
          "annotationdefaults": {
           "arrowcolor": "#2a3f5f",
           "arrowhead": 0,
           "arrowwidth": 1
          },
          "autotypenumbers": "strict",
          "coloraxis": {
           "colorbar": {
            "outlinewidth": 0,
            "ticks": ""
           }
          },
          "colorscale": {
           "diverging": [
            [
             0,
             "#8e0152"
            ],
            [
             0.1,
             "#c51b7d"
            ],
            [
             0.2,
             "#de77ae"
            ],
            [
             0.3,
             "#f1b6da"
            ],
            [
             0.4,
             "#fde0ef"
            ],
            [
             0.5,
             "#f7f7f7"
            ],
            [
             0.6,
             "#e6f5d0"
            ],
            [
             0.7,
             "#b8e186"
            ],
            [
             0.8,
             "#7fbc41"
            ],
            [
             0.9,
             "#4d9221"
            ],
            [
             1,
             "#276419"
            ]
           ],
           "sequential": [
            [
             0,
             "#0d0887"
            ],
            [
             0.1111111111111111,
             "#46039f"
            ],
            [
             0.2222222222222222,
             "#7201a8"
            ],
            [
             0.3333333333333333,
             "#9c179e"
            ],
            [
             0.4444444444444444,
             "#bd3786"
            ],
            [
             0.5555555555555556,
             "#d8576b"
            ],
            [
             0.6666666666666666,
             "#ed7953"
            ],
            [
             0.7777777777777778,
             "#fb9f3a"
            ],
            [
             0.8888888888888888,
             "#fdca26"
            ],
            [
             1,
             "#f0f921"
            ]
           ],
           "sequentialminus": [
            [
             0,
             "#0d0887"
            ],
            [
             0.1111111111111111,
             "#46039f"
            ],
            [
             0.2222222222222222,
             "#7201a8"
            ],
            [
             0.3333333333333333,
             "#9c179e"
            ],
            [
             0.4444444444444444,
             "#bd3786"
            ],
            [
             0.5555555555555556,
             "#d8576b"
            ],
            [
             0.6666666666666666,
             "#ed7953"
            ],
            [
             0.7777777777777778,
             "#fb9f3a"
            ],
            [
             0.8888888888888888,
             "#fdca26"
            ],
            [
             1,
             "#f0f921"
            ]
           ]
          },
          "colorway": [
           "#636efa",
           "#EF553B",
           "#00cc96",
           "#ab63fa",
           "#FFA15A",
           "#19d3f3",
           "#FF6692",
           "#B6E880",
           "#FF97FF",
           "#FECB52"
          ],
          "font": {
           "color": "#2a3f5f"
          },
          "geo": {
           "bgcolor": "white",
           "lakecolor": "white",
           "landcolor": "#E5ECF6",
           "showlakes": true,
           "showland": true,
           "subunitcolor": "white"
          },
          "hoverlabel": {
           "align": "left"
          },
          "hovermode": "closest",
          "mapbox": {
           "style": "light"
          },
          "paper_bgcolor": "white",
          "plot_bgcolor": "#E5ECF6",
          "polar": {
           "angularaxis": {
            "gridcolor": "white",
            "linecolor": "white",
            "ticks": ""
           },
           "bgcolor": "#E5ECF6",
           "radialaxis": {
            "gridcolor": "white",
            "linecolor": "white",
            "ticks": ""
           }
          },
          "scene": {
           "xaxis": {
            "backgroundcolor": "#E5ECF6",
            "gridcolor": "white",
            "gridwidth": 2,
            "linecolor": "white",
            "showbackground": true,
            "ticks": "",
            "zerolinecolor": "white"
           },
           "yaxis": {
            "backgroundcolor": "#E5ECF6",
            "gridcolor": "white",
            "gridwidth": 2,
            "linecolor": "white",
            "showbackground": true,
            "ticks": "",
            "zerolinecolor": "white"
           },
           "zaxis": {
            "backgroundcolor": "#E5ECF6",
            "gridcolor": "white",
            "gridwidth": 2,
            "linecolor": "white",
            "showbackground": true,
            "ticks": "",
            "zerolinecolor": "white"
           }
          },
          "shapedefaults": {
           "line": {
            "color": "#2a3f5f"
           }
          },
          "ternary": {
           "aaxis": {
            "gridcolor": "white",
            "linecolor": "white",
            "ticks": ""
           },
           "baxis": {
            "gridcolor": "white",
            "linecolor": "white",
            "ticks": ""
           },
           "bgcolor": "#E5ECF6",
           "caxis": {
            "gridcolor": "white",
            "linecolor": "white",
            "ticks": ""
           }
          },
          "title": {
           "x": 0.05
          },
          "xaxis": {
           "automargin": true,
           "gridcolor": "white",
           "linecolor": "white",
           "ticks": "",
           "title": {
            "standoff": 15
           },
           "zerolinecolor": "white",
           "zerolinewidth": 2
          },
          "yaxis": {
           "automargin": true,
           "gridcolor": "white",
           "linecolor": "white",
           "ticks": "",
           "title": {
            "standoff": 15
           },
           "zerolinecolor": "white",
           "zerolinewidth": 2
          }
         }
        },
        "title": {
         "text": "Profil wysokościowy wybranego szlaku GreenVelo"
        },
        "xaxis": {
         "title": {
          "text": "Dystans [km]"
         }
        },
        "yaxis": {
         "title": {
          "text": "Wysokosc [m]"
         }
        }
       }
      }
     },
     "metadata": {},
     "output_type": "display_data"
    }
   ],
   "source": [
    "# profil wysokosciowy\n",
    "fig = go.Figure()\n",
    "fig.add_trace(go.Scatter(x=df['distance'], y=df['HN'], name='HN'))\n",
    "# fig.add_trace(go.Scatter(x=df['distance'], y=df['elip'], name='elip'))\n",
    "fig.add_trace(go.Scatter(x=df['distance'], y=df['elevation'], name='elevation'))\n",
    "fig.update_layout(title='Profil wysokościowy wybranego szlaku GreenVelo', xaxis_title='Dystans [km]', yaxis_title='Wysokosc [m]')\n",
    "fig.show()"
   ]
  },
  {
   "cell_type": "markdown",
   "metadata": {},
   "source": [
    "<!-- Na podstawie danych współrzędnych krzywoliniowych oraz wysokości normalnej trasy w po\u0002danym modelu wysokości, wykonaj profil wysokościowy odcinka w systemie wysokości normal\u0002nych, w układzie PL-EVRF2007-NH, wykorzystując aktualnie obowiązujący model quasigeoidy:\n",
    "PL-geoid2021. Przedstaw przebieg trasy oraz profil na odpowiednich wizualizacjach (wykonaj\n",
    "aplikację). -->\n"
   ]
  },
  {
   "cell_type": "code",
   "execution_count": 3,
   "metadata": {},
   "outputs": [
    {
     "name": "stdout",
     "output_type": "stream",
     "text": [
      "Współrzędne najwyższego punktu trasy: 50.705552, 20.931266\n",
      "Współrzędne najniższego punktu trasy: 50.673976, 21.039663\n"
     ]
    },
    {
     "data": {
      "text/html": [
       "<div style=\"width:100%;\"><div style=\"position:relative;width:100%;height:0;padding-bottom:60%;\"><span style=\"color:#565656\">Make this Notebook Trusted to load map: File -> Trust Notebook</span><iframe srcdoc=\"&lt;!DOCTYPE html&gt;\n",
       "&lt;html&gt;\n",
       "&lt;head&gt;\n",
       "    \n",
       "    &lt;meta http-equiv=&quot;content-type&quot; content=&quot;text/html; charset=UTF-8&quot; /&gt;\n",
       "    \n",
       "        &lt;script&gt;\n",
       "            L_NO_TOUCH = false;\n",
       "            L_DISABLE_3D = false;\n",
       "        &lt;/script&gt;\n",
       "    \n",
       "    &lt;style&gt;html, body {width: 100%;height: 100%;margin: 0;padding: 0;}&lt;/style&gt;\n",
       "    &lt;style&gt;#map {position:absolute;top:0;bottom:0;right:0;left:0;}&lt;/style&gt;\n",
       "    &lt;script src=&quot;https://cdn.jsdelivr.net/npm/leaflet@1.9.3/dist/leaflet.js&quot;&gt;&lt;/script&gt;\n",
       "    &lt;script src=&quot;https://code.jquery.com/jquery-3.7.1.min.js&quot;&gt;&lt;/script&gt;\n",
       "    &lt;script src=&quot;https://cdn.jsdelivr.net/npm/bootstrap@5.2.2/dist/js/bootstrap.bundle.min.js&quot;&gt;&lt;/script&gt;\n",
       "    &lt;script src=&quot;https://cdnjs.cloudflare.com/ajax/libs/Leaflet.awesome-markers/2.0.2/leaflet.awesome-markers.js&quot;&gt;&lt;/script&gt;\n",
       "    &lt;link rel=&quot;stylesheet&quot; href=&quot;https://cdn.jsdelivr.net/npm/leaflet@1.9.3/dist/leaflet.css&quot;/&gt;\n",
       "    &lt;link rel=&quot;stylesheet&quot; href=&quot;https://cdn.jsdelivr.net/npm/bootstrap@5.2.2/dist/css/bootstrap.min.css&quot;/&gt;\n",
       "    &lt;link rel=&quot;stylesheet&quot; href=&quot;https://netdna.bootstrapcdn.com/bootstrap/3.0.0/css/bootstrap.min.css&quot;/&gt;\n",
       "    &lt;link rel=&quot;stylesheet&quot; href=&quot;https://cdn.jsdelivr.net/npm/@fortawesome/fontawesome-free@6.2.0/css/all.min.css&quot;/&gt;\n",
       "    &lt;link rel=&quot;stylesheet&quot; href=&quot;https://cdnjs.cloudflare.com/ajax/libs/Leaflet.awesome-markers/2.0.2/leaflet.awesome-markers.css&quot;/&gt;\n",
       "    &lt;link rel=&quot;stylesheet&quot; href=&quot;https://cdn.jsdelivr.net/gh/python-visualization/folium/folium/templates/leaflet.awesome.rotate.min.css&quot;/&gt;\n",
       "    \n",
       "            &lt;meta name=&quot;viewport&quot; content=&quot;width=device-width,\n",
       "                initial-scale=1.0, maximum-scale=1.0, user-scalable=no&quot; /&gt;\n",
       "            &lt;style&gt;\n",
       "                #map_5746e4db84593d73b2a26ec15e1a0a74 {\n",
       "                    position: relative;\n",
       "                    width: 100.0%;\n",
       "                    height: 100.0%;\n",
       "                    left: 0.0%;\n",
       "                    top: 0.0%;\n",
       "                }\n",
       "                .leaflet-container { font-size: 1rem; }\n",
       "            &lt;/style&gt;\n",
       "        \n",
       "&lt;/head&gt;\n",
       "&lt;body&gt;\n",
       "    \n",
       "    \n",
       "            &lt;div class=&quot;folium-map&quot; id=&quot;map_5746e4db84593d73b2a26ec15e1a0a74&quot; &gt;&lt;/div&gt;\n",
       "        \n",
       "&lt;/body&gt;\n",
       "&lt;script&gt;\n",
       "    \n",
       "    \n",
       "            var map_5746e4db84593d73b2a26ec15e1a0a74 = L.map(\n",
       "                &quot;map_5746e4db84593d73b2a26ec15e1a0a74&quot;,\n",
       "                {\n",
       "                    center: [50.68753438882893, 21.000331949936573],\n",
       "                    crs: L.CRS.EPSG3857,\n",
       "                    zoom: 12,\n",
       "                    zoomControl: true,\n",
       "                    preferCanvas: false,\n",
       "                }\n",
       "            );\n",
       "\n",
       "            \n",
       "\n",
       "        \n",
       "    \n",
       "            var tile_layer_739d178b8fd01d1c4e3e68ab3e5e1113 = L.tileLayer(\n",
       "                &quot;https://{s}.tile.openstreetmap.org/{z}/{x}/{y}.png&quot;,\n",
       "                {&quot;attribution&quot;: &quot;Data by \\u0026copy; \\u003ca target=\\&quot;_blank\\&quot; href=\\&quot;http://openstreetmap.org\\&quot;\\u003eOpenStreetMap\\u003c/a\\u003e, under \\u003ca target=\\&quot;_blank\\&quot; href=\\&quot;http://www.openstreetmap.org/copyright\\&quot;\\u003eODbL\\u003c/a\\u003e.&quot;, &quot;detectRetina&quot;: false, &quot;maxNativeZoom&quot;: 18, &quot;maxZoom&quot;: 18, &quot;minZoom&quot;: 0, &quot;noWrap&quot;: false, &quot;opacity&quot;: 1, &quot;subdomains&quot;: &quot;abc&quot;, &quot;tms&quot;: false}\n",
       "            );\n",
       "        \n",
       "    \n",
       "                tile_layer_739d178b8fd01d1c4e3e68ab3e5e1113.addTo(map_5746e4db84593d73b2a26ec15e1a0a74);\n",
       "    \n",
       "            var marker_8e1a8184a2ad54504adb88ab2a844dd9 = L.marker(\n",
       "                [50.705552, 20.931266],\n",
       "                {}\n",
       "            ).addTo(map_5746e4db84593d73b2a26ec15e1a0a74);\n",
       "        \n",
       "    \n",
       "            var icon_2637e3328ada68d87ed36b7611265f82 = L.AwesomeMarkers.icon(\n",
       "                {&quot;extraClasses&quot;: &quot;fa-rotate-0&quot;, &quot;icon&quot;: &quot;info-sign&quot;, &quot;iconColor&quot;: &quot;white&quot;, &quot;markerColor&quot;: &quot;green&quot;, &quot;prefix&quot;: &quot;glyphicon&quot;}\n",
       "            );\n",
       "            marker_8e1a8184a2ad54504adb88ab2a844dd9.setIcon(icon_2637e3328ada68d87ed36b7611265f82);\n",
       "        \n",
       "    \n",
       "        var popup_a9f2989e9decf2dd23ab0211342860d7 = L.popup({&quot;maxWidth&quot;: &quot;100%&quot;});\n",
       "\n",
       "        \n",
       "            \n",
       "                var html_1ac2605483536994e849607346c61ead = $(`&lt;div id=&quot;html_1ac2605483536994e849607346c61ead&quot; style=&quot;width: 100.0%; height: 100.0%;&quot;&gt;Najwyzszy punkt wybranej trasy rowerowej z GreenVelo&lt;/div&gt;`)[0];\n",
       "                popup_a9f2989e9decf2dd23ab0211342860d7.setContent(html_1ac2605483536994e849607346c61ead);\n",
       "            \n",
       "        \n",
       "\n",
       "        marker_8e1a8184a2ad54504adb88ab2a844dd9.bindPopup(popup_a9f2989e9decf2dd23ab0211342860d7)\n",
       "        ;\n",
       "\n",
       "        \n",
       "    \n",
       "    \n",
       "            marker_8e1a8184a2ad54504adb88ab2a844dd9.bindTooltip(\n",
       "                `&lt;div&gt;\n",
       "                     CLick to pop\n",
       "                 &lt;/div&gt;`,\n",
       "                {&quot;sticky&quot;: true}\n",
       "            );\n",
       "        \n",
       "    \n",
       "            var marker_735ecf96d2d71f21e58a06703742f8a9 = L.marker(\n",
       "                [50.673976, 21.039663],\n",
       "                {}\n",
       "            ).addTo(map_5746e4db84593d73b2a26ec15e1a0a74);\n",
       "        \n",
       "    \n",
       "            var icon_738203b598daf9aeab9f383780e3019f = L.AwesomeMarkers.icon(\n",
       "                {&quot;extraClasses&quot;: &quot;fa-rotate-0&quot;, &quot;icon&quot;: &quot;info-sign&quot;, &quot;iconColor&quot;: &quot;white&quot;, &quot;markerColor&quot;: &quot;blue&quot;, &quot;prefix&quot;: &quot;glyphicon&quot;}\n",
       "            );\n",
       "            marker_735ecf96d2d71f21e58a06703742f8a9.setIcon(icon_738203b598daf9aeab9f383780e3019f);\n",
       "        \n",
       "    \n",
       "        var popup_56d6eba9cbf6394539ebf0682e9990a9 = L.popup({&quot;maxWidth&quot;: &quot;100%&quot;});\n",
       "\n",
       "        \n",
       "            \n",
       "                var html_ae0ccbac58deb2392a46767b11666fd7 = $(`&lt;div id=&quot;html_ae0ccbac58deb2392a46767b11666fd7&quot; style=&quot;width: 100.0%; height: 100.0%;&quot;&gt;Najnizszy punkt wybranej trasy rowerowej z GreenVelo&lt;/div&gt;`)[0];\n",
       "                popup_56d6eba9cbf6394539ebf0682e9990a9.setContent(html_ae0ccbac58deb2392a46767b11666fd7);\n",
       "            \n",
       "        \n",
       "\n",
       "        marker_735ecf96d2d71f21e58a06703742f8a9.bindPopup(popup_56d6eba9cbf6394539ebf0682e9990a9)\n",
       "        ;\n",
       "\n",
       "        \n",
       "    \n",
       "    \n",
       "            marker_735ecf96d2d71f21e58a06703742f8a9.bindTooltip(\n",
       "                `&lt;div&gt;\n",
       "                     CLick to pop\n",
       "                 &lt;/div&gt;`,\n",
       "                {&quot;sticky&quot;: true}\n",
       "            );\n",
       "        \n",
       "    \n",
       "            var poly_line_1cb498e056be5c822a61587d795e8b39 = L.polyline(\n",
       "                [[50.710598895644, 20.893799667452], [50.710198, 20.895131], [50.710124, 20.895457], [50.710024, 20.897037], [50.7102, 20.899038], [50.709992, 20.902178], [50.709698, 20.904402], [50.710354, 20.907979], [50.710398, 20.908697], [50.710262, 20.910935], [50.710285, 20.912188], [50.710222, 20.91287], [50.710171, 20.913263], [50.709613, 20.915856], [50.708716, 20.921459], [50.708538, 20.922216], [50.708406, 20.922348], [50.706819, 20.921691], [50.706515, 20.92165], [50.7065155, 20.9216505], [50.706068, 20.926257], [50.706098, 20.927037], [50.705552, 20.931266], [50.705426, 20.934003], [50.704877, 20.936717], [50.705168, 20.941754], [50.705438, 20.942953], [50.705892, 20.946183], [50.705881, 20.948661], [50.70528, 20.95185], [50.704875, 20.954553], [50.704627, 20.955662], [50.703671, 20.95736], [50.702467, 20.957431], [50.701927, 20.958605], [50.701609, 20.95916], [50.701003, 20.959941], [50.700365, 20.960917], [50.699841, 20.961869], [50.699525, 20.962368], [50.696757, 20.968729], [50.695837, 20.972703], [50.69244, 20.979631], [50.692245, 20.97979], [50.691872, 20.979919], [50.689297, 20.986154], [50.689189, 20.986523], [50.689144, 20.989656], [50.689295, 20.992224], [50.68907, 20.9934815], [50.68907, 20.9934815], [50.689, 20.993762], [50.688275, 20.994856], [50.687494, 20.996285], [50.68709, 20.997051], [50.686337, 20.998812], [50.685937, 20.999432], [50.684766, 21.00005], [50.684364, 21.00034], [50.683496, 21.001477], [50.681688, 21.004831], [50.681424, 21.005321], [50.678357, 21.013424], [50.675773, 21.019234], [50.675641, 21.019794], [50.6754, 21.021265], [50.6754, 21.021265], [50.675355, 21.022508], [50.674634, 21.026988], [50.673878, 21.035713], [50.67359, 21.036972], [50.673007, 21.03846], [50.673007, 21.03846], [50.673976, 21.039663], [50.674814, 21.04139], [50.674814, 21.04139], [50.674931, 21.041508], [50.674931, 21.041508], [50.675477, 21.042145], [50.675477, 21.042145], [50.67547, 21.042393], [50.67547, 21.042393], [50.675014, 21.043103], [50.675014, 21.043103], [50.674676, 21.043333], [50.674675875, 21.043332875], [50.673447, 21.046537], [50.673447, 21.046537], [50.673504, 21.046643], [50.674074, 21.047367], [50.67443, 21.047692], [50.674742, 21.047881], [50.674981, 21.047988], [50.676017, 21.048128], [50.676168, 21.048091], [50.676168, 21.048091], [50.676734, 21.05286], [50.676703, 21.055197], [50.677209, 21.05729], [50.676931, 21.064194], [50.677295, 21.070039], [50.676935, 21.072286], [50.676935, 21.072286], [50.676657, 21.072809], [50.676383, 21.073315], [50.673098, 21.077878], [50.672872, 21.078355], [50.672358, 21.079553], [50.672094, 21.080552], [50.671864, 21.080803], [50.671377, 21.081287], [50.6696, 21.082121], [50.668122, 21.082718], [50.667547, 21.082656], [50.666594, 21.082887], [50.666466, 21.083128], [50.666466, 21.083128], [50.666615, 21.08402], [50.666651, 21.084794]],\n",
       "                {&quot;bubblingMouseEvents&quot;: true, &quot;color&quot;: &quot;red&quot;, &quot;dashArray&quot;: null, &quot;dashOffset&quot;: null, &quot;fill&quot;: false, &quot;fillColor&quot;: &quot;red&quot;, &quot;fillOpacity&quot;: 0.2, &quot;fillRule&quot;: &quot;evenodd&quot;, &quot;lineCap&quot;: &quot;round&quot;, &quot;lineJoin&quot;: &quot;round&quot;, &quot;noClip&quot;: false, &quot;opacity&quot;: 1, &quot;smoothFactor&quot;: 1.0, &quot;stroke&quot;: true, &quot;weight&quot;: 2.5}\n",
       "            ).addTo(map_5746e4db84593d73b2a26ec15e1a0a74);\n",
       "        \n",
       "&lt;/script&gt;\n",
       "&lt;/html&gt;\" style=\"position:absolute;width:100%;height:100%;left:0;top:0;border:none !important;\" allowfullscreen webkitallowfullscreen mozallowfullscreen></iframe></div></div>"
      ],
      "text/plain": [
       "<folium.folium.Map at 0x17b5345a710>"
      ]
     },
     "execution_count": 3,
     "metadata": {},
     "output_type": "execute_result"
    }
   ],
   "source": [
    "# wysweitl przy pomocy bibioletki foilum najwyzszy punkt trasy na mapie osm\n",
    "# max_elip = df['elip'].max()\n",
    "max_elip_idx = df['elip'].idxmax()\n",
    "max_elip_lat = df['latitude'][max_elip_idx]\n",
    "max_elip_lon = df['longitude'][max_elip_idx]\n",
    "print(f'Współrzędne najwyższego punktu trasy: {max_elip_lat}, {max_elip_lon}')\n",
    "\n",
    "# min_elip = df['elip'].min()\n",
    "min_elip_idx = df['elip'].idxmin()\n",
    "min_elip_lat = df['latitude'][min_elip_idx]\n",
    "min_elip_lon = df['longitude'][min_elip_idx]\n",
    "print(f'Współrzędne najniższego punktu trasy: {min_elip_lat}, {min_elip_lon}')\n",
    "\n",
    "# obliczmy srodek trasy\n",
    "center_lat = df['latitude'].mean()\n",
    "center_lon = df['longitude'].mean()\n",
    "\n",
    "m = fl.Map(location=[center_lat, center_lon], zoom_start=12)\n",
    "fl.Marker([max_elip_lat, max_elip_lon], popup='Najwyzszy punkt wybranej trasy rowerowej z GreenVelo', tooltip = 'CLick to pop', icon = fl.Icon(color = \"green\")).add_to(m)\n",
    "fl.Marker([min_elip_lat, min_elip_lon], popup='Najnizszy punkt wybranej trasy rowerowej z GreenVelo', tooltip = 'CLick to pop', icon = fl.Icon(color = \"blue\")).add_to(m)\n",
    "# narysujmy trase na podstawie wpsołrzednych z pliku csv\n",
    "bicycle_route = df[['latitude', 'longitude']].values.tolist()\n",
    "fl.PolyLine(bicycle_route, color='red', weight=2.5, opacity=1).add_to(m)\n",
    "m.save('map.html')\n",
    "m"
   ]
  }
 ],
 "metadata": {
  "kernelspec": {
   "display_name": "Python 3",
   "language": "python",
   "name": "python3"
  },
  "language_info": {
   "codemirror_mode": {
    "name": "ipython",
    "version": 3
   },
   "file_extension": ".py",
   "mimetype": "text/x-python",
   "name": "python",
   "nbconvert_exporter": "python",
   "pygments_lexer": "ipython3",
   "version": "3.11.3"
  }
 },
 "nbformat": 4,
 "nbformat_minor": 2
}
